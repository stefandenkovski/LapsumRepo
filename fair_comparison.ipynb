{
 "metadata": {
  "language_info": {
   "codemirror_mode": {
    "name": "ipython",
    "version": 3
   },
   "file_extension": ".py",
   "mimetype": "text/x-python",
   "name": "python",
   "nbconvert_exporter": "python",
   "pygments_lexer": "ipython3",
   "version": "3.8.3-final"
  },
  "orig_nbformat": 2,
  "kernelspec": {
   "name": "python3",
   "display_name": "Python 3",
   "language": "python"
  }
 },
 "nbformat": 4,
 "nbformat_minor": 2,
 "cells": [
  {
   "cell_type": "code",
   "execution_count": 1,
   "metadata": {},
   "outputs": [],
   "source": [
    "# load in label csvs for all datasets\n",
    "# then compare the labels for the fall_number as this is the unique ID \n",
    "    # shoudl also match TOD \n",
    "\n",
    "# add option to choose only day or only night examples \n",
    "\n",
    "# save list of common falls in a csv that you can read in \n",
    "# the pipeline in order to ensure that it is a common fall\n",
    "\n",
    "import pandas as pd\n",
    "import numpy as np\n",
    "from functools import reduce\n",
    "\n"
   ]
  },
  {
   "cell_type": "code",
   "execution_count": 2,
   "metadata": {},
   "outputs": [],
   "source": [
    "# load in all datasets manually \n",
    "\"F:/Edits/ONI_IR/Labels.csv\"\n",
    "\n",
    "\n",
    "ONI_IR_Labels = pd.read_csv(\"F:/Edits/ONI_IR/Labels.csv\")\n",
    "ONI_Depth_Labels = pd.read_csv(\"F:/Edits/ONI_Depth/Labels.csv\")\n",
    "ZED_RGB_Labels = pd.read_csv(\"F:/Edits/ZED_RGB/Labels.csv\")\n",
    "ZED_Depth_Labels = pd.read_csv(\"F:/Edits/ZED_Depth/Labels.csv\")\n",
    "Thermal_Labels = pd.read_csv(\"F:/Edits/Thermal/Labels.csv\")\n",
    "IP_Labels = pd.read_csv(\"F:/Edits/IP/Labels.csv\")\n",
    "\n",
    "\n",
    "# compile the list of dataframes you want to merge\n",
    "data_frames = [ONI_IR_Labels, ONI_Depth_Labels, ZED_RGB_Labels, ZED_Depth_Labels, Thermal_Labels, IP_Labels]\n",
    "\n"
   ]
  },
  {
   "cell_type": "code",
   "execution_count": 3,
   "metadata": {},
   "outputs": [
    {
     "output_type": "stream",
     "name": "stdout",
     "text": [
      "187\n[  0   1   2   3   4   5   6   7   8   9  10  11  12  13  14  15  16  17\n  18  19  24  27  30  31  32  33  35  36  38  39  50  51  52  54  55  56\n  57  58  59  60  62  63  64  65  66  68  69  70  71  73  75  76  77  78\n  79  80  81  82  83  84  90  92  93  94  96  97  99 100 101 103 104 105\n 107 109 111 112 113 114 115 116 117 118 119 120 121 122 123 124 125 126\n 127 128 130 132 133 134 135 136 137 138 139 154 155 160 161 162 163 164\n 165 166 168 169 172 173 174 175 176 177 178 179 180 181 183 184 185 186\n 189 190 191 192 193 194 195 196 197 198 199 200 201 202 203 204 205 206\n 207 208 209 210 212 215 216 217 218 219 248 253 254 255 257 258 259 260\n 261 265 266 268 269 270 271 272 273 274 275 276 277 278 279 280 281 282\n 283 284 285 286 287 288 289]\n"
     ]
    }
   ],
   "source": [
    "df_merged = reduce(lambda  left,right: pd.merge(left,right,on=['Video'], how='inner'), data_frames)\n",
    "#print(df_merged.keys())\n",
    "#night_vids = df_merged[df_merged['ToD_x'] == 0].Video.unique()\n",
    "#day_vids = df_merged[df_merged['ToD_x'] == 1].Video.unique()\n",
    "shared_vids = df_merged.Video.unique()\n",
    "\n",
    "np.savetxt('shared_fall_vids.txt', shared_vids)\n",
    "\n",
    "print(len(shared_vids))\n",
    "print(shared_vids)\n"
   ]
  },
  {
   "cell_type": "code",
   "execution_count": 4,
   "metadata": {},
   "outputs": [
    {
     "output_type": "stream",
     "name": "stdout",
     "text": [
      "['0', '1', '10', '11', '12', '13', '14', '15', '16', '17', '18', '19', '2', '20', '21', '22', '23', '24', '25', '26', '27', '28', '29', '3', '30', '31', '32', '33', '34', '35', '36', '37', '38', '39', '4', '40', '41', '42', '43', '44', '45', '46', '47', '48', '49', '5', '50', '51', '52', '53', '54', '55', '56', '57', '58', '59', '6', '60', '61', '62', '63', '64', '65', '66', '67', '68', '69', '7', '70', '71', '72', '73', '74', '75', '76', '77', '78', '79', '8', '80', '81', '82', '83', '84', '85', '86', '87', '88', '89', '9']\n['10', '100', '11', '12', '13', '14', '15', '16', '17', '18', '19', '2', '20', '21', '22', '23', '24', '25', '26', '27', '28', '29', '3', '30', '31', '32', '33', '34', '35', '36', '37', '38', '39', '4', '40', '41', '42', '43', '44', '45', '46', '47', '48', '49', '5', '50', '51', '52', '53', '54', '55', '56', '57', '58', '59', '6', '60', '61', '62', '63', '64', '65', '66', '67', '68', '69', '7', '70', '71', '72', '73', '74', '75', '76', '77', '78', '79', '8', '80', '81', '82', '83', '84', '85', '86', '87', '88', '89', '9', '90', '91', '92', '93', '94', '95', '96', '97', '98', '99']\n['0', '1', '10', '11', '12', '13', '14', '15', '16', '17', '18', '19', '2', '20', '21', '22', '23', '24', '25', '26', '27', '28', '29', '3', '30', '31', '32', '33', '34', '35', '36', '37', '38', '39', '4', '40', '41', '42', '43', '44', '45', '46', '47', '48', '49', '5', '6', '60', '61', '62', '63', '64', '65', '66', '67', '68', '69', '7', '70', '71', '72', '73', '74', '75', '76', '77', '78', '79', '8', '80', '81', '82', '83', '84', '85', '86', '87', '88', '89', '9', '90', '91', '92', '93', '94', '95', '96', '97', '98', '99']\n['10', '11', '12', '13', '14', '15', '16', '17', '18', '19', '20', '22', '23', '24', '25', '26', '27', '28', '29', '50', '51', '52', '53', '54', '55', '56', '57', '58', '59', '60', '61', '62', '63', '64', '65', '66', '67', '68', '69', '70', '71', '72', '73', '74', '75', '76', '77', '78', '79', '80', '81', '82', '83', '84', '85', '86', '87', '88', '90', '91', '92', '93', '94', '95', '96', '97', '98', '99']\n"
     ]
    }
   ],
   "source": [
    "from glob import glob\n",
    "import os\n",
    "IP_falls = glob('F:/Edits/IP/NonFall/*')\n",
    "IP_falls = [IP_fall[27:] for IP_fall in IP_falls]\n",
    "\n",
    "ONI_IR_falls = glob('F:/Edits/ONI_IR/NonFall/*')\n",
    "ONI_IR_falls = [ONI_IR_fall[31:] for ONI_IR_fall in ONI_IR_falls]\n",
    "\n",
    "ONI_Depth_falls = glob('F:/Edits/ONI_Depth/NonFall/*')\n",
    "ONI_Depth_falls = [ONI_Depth_fall[34:] for ONI_Depth_fall in ONI_Depth_falls]\n",
    "\n",
    "ZED_RGB_falls = glob('F:/Edits/ZED_RGB/NonFall/*')\n",
    "ZED_RGB_falls = [ZED_RGB_fall[32:] for ZED_RGB_fall in ZED_RGB_falls]\n",
    "\n",
    "ZED_Depth_Falls = glob('F:/Edits/ZED_Depth/NonFall/*')\n",
    "ZED_Depth_Falls = [ZED_Depth_Fall[34:] for ZED_Depth_Fall in ZED_Depth_Falls]\n",
    "\n",
    "Thermal_falls = glob('F:/Edits/Thermal/NonFall/*')\n",
    "Thermal_falls = [Thermal_fall[32:] for Thermal_fall in Thermal_falls]\n",
    "\n",
    "print(Thermal_falls)\n",
    "print(ZED_RGB_falls)\n",
    "print(IP_falls)\n",
    "print(ONI_IR_falls)\n",
    "a = np.asarray(list(set(IP_falls) & set(ONI_IR_falls) & set(ZED_RGB_falls) & set(Thermal_falls)))\n"
   ]
  },
  {
   "cell_type": "code",
   "execution_count": 6,
   "metadata": {},
   "outputs": [
    {
     "output_type": "stream",
     "name": "stdout",
     "text": [
      "['79' '80' '68' '66' '82' '26' '76' '60' '83' '25' '71' '62' '64' '29'\n '19' '15' '67' '63' '88' '85' '74' '24' '22' '13' '78' '65' '72' '27'\n '69' '70' '86' '17' '12' '81' '23' '18' '84' '10' '61' '16' '75' '11'\n '73' '20' '28' '77' '87' '14']\n48\n['79' '80' '68' '66' '82' '26' '76' '60' '83' '25' '71' '62' '64' '29'\n '19' '15' '67' '63' '88' '85' '74' '24' '22' '13' '78' '65' '72' '27'\n '69' '70' '86' '17' '12' '81' '23' '18' '84' '10' '61' '16' '75' '11'\n '73' '20' '28' '77' '87' '14']\n"
     ]
    }
   ],
   "source": [
    "#shared_adls = list(map(int, shared_adls))\n",
    "print(a)\n",
    "print(len(a))\n",
    "print(a)\n",
    "np.savetxt('shared_adl_vids.txt', a, fmt='%s')\n",
    "\n"
   ]
  },
  {
   "cell_type": "code",
   "execution_count": null,
   "metadata": {},
   "outputs": [],
   "source": []
  }
 ]
}